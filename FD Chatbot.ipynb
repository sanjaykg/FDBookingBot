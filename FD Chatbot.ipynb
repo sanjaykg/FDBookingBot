{
 "cells": [
  {
   "cell_type": "markdown",
   "id": "a9183228-0ba6-4af9-8430-649e28868253",
   "metadata": {
    "id": "JMXGlIvAwn30"
   },
   "source": [
    "# The FD Chat Bot Format\n",
    "\n",
    "In this notebook a sincere try to create chat bot/conversational inerface to book a Fixed Deposit for a set of NBFC. Data used in this Notebook is only Sample and Names of NBFC are also sample, these do not reflect any real data\n",
    "\n",
    "## Setup"
   ]
  },
  {
   "cell_type": "code",
   "execution_count": 104,
   "id": "7fa0d9b5",
   "metadata": {
    "tags": []
   },
   "outputs": [],
   "source": [
    "import os\n",
    "import openai\n",
    "import panel as pn  # GUI\n",
    "import pandas as pd\n",
    "from dotenv import load_dotenv, find_dotenv\n",
    "\n",
    "_ = load_dotenv(find_dotenv()) # read local .env file\n",
    "\n",
    "openai.api_key  = os.getenv('OPENAI_API_KEY')"
   ]
  },
  {
   "cell_type": "markdown",
   "id": "f504b1a3",
   "metadata": {},
   "source": [
    "Methods to connect the Open AI APIs and process the messages"
   ]
  },
  {
   "cell_type": "code",
   "execution_count": 105,
   "id": "f5308d65",
   "metadata": {
    "tags": []
   },
   "outputs": [],
   "source": [
    "client = openai.OpenAI()\n",
    "\n",
    "def get_completion(prompt, model=\"gpt-3.5-turbo\"):\n",
    "    messages = [{\"role\": \"user\", \"content\": prompt}]\n",
    "    response = client.chat.completions.create(\n",
    "        model=model,\n",
    "        messages=messages,\n",
    "        temperature=0\n",
    "    )\n",
    "    return response.choices[0].message.content\n",
    "\n",
    "def get_completion_from_messages(messages, model=\"gpt-3.5-turbo\", temperature=0):\n",
    "    response = client.chat.completions.create(\n",
    "        model=model,\n",
    "        messages=messages,\n",
    "        temperature=0\n",
    "    )\n",
    "#     print(str(response.choices[0].message))\n",
    "    return response.choices[0].message.content"
   ]
  },
  {
   "cell_type": "markdown",
   "id": "dedba66a-58b0-40d4-b9ae-47e79ae22328",
   "metadata": {
    "id": "bBg_MpXeYnTq"
   },
   "source": [
    "# Reading the Rates Data to use in FD Bot\n",
    "We are trying to automate the collection of user prompts and assistant responses to build a  FD Booking Bot.and these rates and FD booking options will be used in that"
   ]
  },
  {
   "cell_type": "code",
   "execution_count": 106,
   "id": "63d1c21e",
   "metadata": {},
   "outputs": [],
   "source": [
    "rates = pd.read_csv('FDRates.csv')\n",
    "rates_dict = rates.to_dict(orient='records')"
   ]
  },
  {
   "cell_type": "markdown",
   "id": "9e9f2f5c",
   "metadata": {},
   "source": [
    "Checking if the data has been loaded correctly ?"
   ]
  },
  {
   "cell_type": "code",
   "execution_count": null,
   "id": "93a21833",
   "metadata": {},
   "outputs": [],
   "source": [
    "#rates.head(5)\n",
    "#rates_dict"
   ]
  },
  {
   "cell_type": "code",
   "execution_count": 107,
   "id": "00663bca",
   "metadata": {},
   "outputs": [],
   "source": [
    "prompt_text=f\"\"\"\n",
    "You are a OrderBot, an automated service to collect orders for a Fixed Deposit (FD). \\\n",
    "use the below steps to process an order. \\\n",
    "1. You first greet the customer, then collects the FD booking, \\\n",
    "2. You wait to collect the entire information such Customer details ( Name, DOB and PAN ),Amount and duration in months, Frequency \\\n",
    "3. and You asks it's for which provider ? - Provider1 or Provider2. \\\n",
    "4. then summarize it after finding the rates for the above mentioned provider from The Fixed Deposit Rates section within ```.\\ \n",
    "and then check for a final time if the customer wants to add anything else to book a Fixed Deposit \\\n",
    "5. Finally you collect the payment.\\\n",
    "6. Make sure to clarify all options, extras and TnC to book a Fixed Deposit \\\n",
    "7. You respond in a short, very conversational friendly style. \\\n",
    "8. The Fixed Deposit options and intesrest rates are provided below in a dictioray format. \\\n",
    "```{rates_dict}```\n",
    "\"\"\""
   ]
  },
  {
   "cell_type": "code",
   "execution_count": null,
   "id": "1ae83a27",
   "metadata": {},
   "outputs": [],
   "source": [
    "pn.extension()\n",
    "\n",
    "panels = [] # collect display \n",
    "\n",
    "context = [ {'role':'system', 'content':prompt_text} ]  # accumulate messages\n",
    "inp = pn.widgets.TextInput(value=\"Hi\", width=800, placeholder='Enter the FD inputs here…',disabled=False)\n"
   ]
  },
  {
   "cell_type": "code",
   "execution_count": 109,
   "id": "e76749ac",
   "metadata": {
    "tags": []
   },
   "outputs": [
    {
     "data": {
      "text/plain": [
       "Watcher(inst=TextInput(placeholder='Enter the FD i..., value='Hi', width=800), cls=<class 'panel.widgets.input.TextInput'>, fn=<function on_submit at 0x0000027836845A20>, mode='args', onlychanged=True, parameter_names=('value',), what='value', queued=False, precedence=0)"
      ]
     },
     "execution_count": 109,
     "metadata": {},
     "output_type": "execute_result"
    }
   ],
   "source": [
    "def collect_messages(_):\n",
    "    prompt = inp.value_input\n",
    "    inp.value = ''\n",
    "    context.append({'role':'user', 'content':f\"{prompt}\"})\n",
    "    response = get_completion_from_messages(context) \n",
    "    context.append({'role':'assistant', 'content':f\"{response}\"})\n",
    "    # Append message panels\n",
    "    user_pane = pn.Row('User:', pn.pane.Markdown(prompt, width=800))\n",
    "    assistant_pane = pn.Row('Assistant:', pn.pane.Markdown(response, width=800, height_policy='auto', styles={'background-color': '#F6F6F6'}))\n",
    "    \n",
    "    panels.extend([user_pane, assistant_pane])\n",
    " \n",
    "    return pn.Column(*panels)\n",
    "\n",
    "def on_submit(event):\n",
    "    # Check if the event corresponds to a key press\n",
    "    if event.type == 'changed':\n",
    "        # Check if Enter key is pressed\n",
    "        if event.new.endswith('\\n'):\n",
    "            # Call collect_messages function\n",
    "            collect_messages(inp)\n",
    "\n",
    "\n",
    "inp.param.watch(on_submit, 'value')\n"
   ]
  },
  {
   "cell_type": "markdown",
   "id": "73a7e6ed",
   "metadata": {},
   "source": [
    "Please enter your text in CAPS in input box and press the Chat Button, some issue with small case ( will try to fix it in next version) ot if you are able to fix it please share the fix."
   ]
  },
  {
   "cell_type": "code",
   "execution_count": 110,
   "id": "f37a64c7",
   "metadata": {},
   "outputs": [
    {
     "data": {
      "application/vnd.jupyter.widget-view+json": {
       "model_id": "16401236a6d34b618eb2440288af42e2",
       "version_major": 2,
       "version_minor": 0
      },
      "text/plain": [
       "BokehModel(combine_events=True, render_bundle={'docs_json': {'da570b55-1f43-4cea-b585-0296d517cb9f': {'version…"
      ]
     },
     "execution_count": 110,
     "metadata": {},
     "output_type": "execute_result"
    }
   ],
   "source": [
    "\n",
    "button_conversation = pn.widgets.Button(name=\"Process the FD Booking\", button_type='primary')\n",
    "interactive_conversation = pn.bind(collect_messages, button_conversation)\n",
    "\n",
    "dashboard = pn.Column(\n",
    "    inp,\n",
    "    pn.Row(button_conversation),\n",
    "    pn.panel(interactive_conversation, loading_indicator=True, height_policy='auto'),\n",
    ")\n",
    "\n",
    "dashboard"
   ]
  },
  {
   "cell_type": "markdown",
   "id": "3ec717d7",
   "metadata": {},
   "source": [
    "# Verfication and Next Steps\n",
    "By executing the below code, you can see bot has collected the information correctlty even of the order of the information was random\n",
    "Json output provided by below method can be passed to the FD Booking Service which can process rhe request\n",
    "FD Booking Service - Not part of this code, has to be developed seprately"
   ]
  },
  {
   "cell_type": "code",
   "execution_count": 111,
   "id": "2d3ddf7a",
   "metadata": {},
   "outputs": [
    {
     "name": "stdout",
     "output_type": "stream",
     "text": [
      "{\n",
      "    \"Name\": \"Sanjay Gupta\",\n",
      "    \"DOB\": \"5/6/1989\",\n",
      "    \"PAN\": \"ABCDEFGH\",\n",
      "    \"Amount\": \"₹9,000\",\n",
      "    \"Duration\": \"24 months\",\n",
      "    \"Interest Rate\": \"7.81%\",\n",
      "    \"FD Provider\": \"Provider1\",\n",
      "    \"Frequency Type\": \"Monthly\"\n",
      "}\n"
     ]
    }
   ],
   "source": [
    "messages =  context.copy()\n",
    "messages.append(\n",
    "{'role':'system', 'content':'create a json summary of the previous Fixed Deposit booking.\\\n",
    " The fields should be 1) Name DOB PAN 2) Amount 3) duration 4) rate  5) FD Provider 5) Frequency Type'},    \n",
    ")\n",
    "\n",
    "response = get_completion_from_messages(messages, temperature=0)\n",
    "print(response)"
   ]
  }
 ],
 "metadata": {
  "kernelspec": {
   "display_name": "Python 3 (ipykernel)",
   "language": "python",
   "name": "python3"
  },
  "language_info": {
   "codemirror_mode": {
    "name": "ipython",
    "version": 3
   },
   "file_extension": ".py",
   "mimetype": "text/x-python",
   "name": "python",
   "nbconvert_exporter": "python",
   "pygments_lexer": "ipython3",
   "version": "3.10.11"
  }
 },
 "nbformat": 4,
 "nbformat_minor": 5
}
